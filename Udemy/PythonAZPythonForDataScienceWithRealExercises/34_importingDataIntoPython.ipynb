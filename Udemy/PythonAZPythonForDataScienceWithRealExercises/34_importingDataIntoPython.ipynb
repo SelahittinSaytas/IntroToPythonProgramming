{
 "cells": [
  {
   "cell_type": "code",
   "execution_count": 1,
   "metadata": {
    "collapsed": true
   },
   "outputs": [],
   "source": [
    "import pandas as pd\n",
    "#One of the best Python package for working with 'Data Frames'\n",
    "#Data Frames are a step up matrices - similar to tables\n",
    "#Perfect structure for working with data sets"
   ]
  },
  {
   "cell_type": "code",
   "execution_count": 2,
   "metadata": {
    "collapsed": true
   },
   "outputs": [],
   "source": [
    "#Method 1: Specify Full Path To File"
   ]
  },
  {
   "cell_type": "code",
   "execution_count": 3,
   "metadata": {},
   "outputs": [
    {
     "ename": "SyntaxError",
     "evalue": "invalid syntax (<ipython-input-3-d09d862796ad>, line 5)",
     "output_type": "error",
     "traceback": [
      "\u001b[0;36m  File \u001b[0;32m\"<ipython-input-3-d09d862796ad>\"\u001b[0;36m, line \u001b[0;32m5\u001b[0m\n\u001b[0;31m    stats= = pd.read_csv(\"/Users/selahittinsaytas/Documents/IntroToPythonProgramming/Udemy/PythonAZPythonForDataScienceWithRealExercises/DemographicData.csv\")\u001b[0m\n\u001b[0m           ^\u001b[0m\n\u001b[0;31mSyntaxError\u001b[0m\u001b[0;31m:\u001b[0m invalid syntax\n"
     ]
    }
   ],
   "source": [
    "#Windows:\n",
    "##stats = pd.read_csv(\"C:\\\\Users\\\\Kirill\\\\Desktop\\\\Python Programming Course\\\\DemographicData.csv\")\n",
    "\n",
    "#Mac:\n",
    "stats= = pd.read_csv(\"/Users/selahittinsaytas/Documents/IntroToPythonProgramming/Udemy/PythonAZPythonForDataScienceWithRealExercises/DemographicData.csv\")\n",
    "\n",
    "stats"
   ]
  },
  {
   "cell_type": "code",
   "execution_count": null,
   "metadata": {
    "collapsed": true
   },
   "outputs": [],
   "source": [
    "#Method 3: Change Working Directory"
   ]
  },
  {
   "cell_type": "code",
   "execution_count": null,
   "metadata": {
    "collapsed": true
   },
   "outputs": [],
   "source": [
    "import os"
   ]
  },
  {
   "cell_type": "code",
   "execution_count": null,
   "metadata": {},
   "outputs": [],
   "source": [
    "print(os.getcwd())"
   ]
  },
  {
   "cell_type": "code",
   "execution_count": null,
   "metadata": {
    "collapsed": true
   },
   "outputs": [],
   "source": [
    "#Windows:\n",
    "#os.chdir(\"C:\\\\Users\\\\Kirill\\\\Desktop)\n",
    "\n",
    "#Mac:\n",
    "os.chdir(\"/Users/selahittinsaytas/Documents/IntroToPythonProgramming/Udemy/PythonAZPythonForDataScienceWithRealExercises\")"
   ]
  },
  {
   "cell_type": "code",
   "execution_count": null,
   "metadata": {},
   "outputs": [],
   "source": [
    "print(os.getcwd())"
   ]
  },
  {
   "cell_type": "code",
   "execution_count": null,
   "metadata": {
    "collapsed": true
   },
   "outputs": [],
   "source": [
    "stats2 = pd.read_csv(\"DemographicData.csv\")"
   ]
  },
  {
   "cell_type": "code",
   "execution_count": null,
   "metadata": {},
   "outputs": [],
   "source": [
    "stats2"
   ]
  },
  {
   "cell_type": "code",
   "execution_count": null,
   "metadata": {
    "collapsed": true
   },
   "outputs": [],
   "source": []
  }
 ],
 "metadata": {
  "kernelspec": {
   "display_name": "Python 3",
   "language": "python",
   "name": "python3"
  },
  "language_info": {
   "codemirror_mode": {
    "name": "ipython",
    "version": 3
   },
   "file_extension": ".py",
   "mimetype": "text/x-python",
   "name": "python",
   "nbconvert_exporter": "python",
   "pygments_lexer": "ipython3",
   "version": "3.6.1"
  }
 },
 "nbformat": 4,
 "nbformat_minor": 2
}
